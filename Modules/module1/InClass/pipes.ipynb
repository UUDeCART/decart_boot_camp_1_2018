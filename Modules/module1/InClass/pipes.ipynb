{
 "cells": [
  {
   "cell_type": "markdown",
   "metadata": {},
   "source": [
    "<html>\n",
    "<table width=\"100%\" cellspacing=\"2\" cellpadding=\"2\" border=\"1\">\n",
    "<tbody>\n",
    "<tr>\n",
    "<td valign=\"center\" align=\"center\" width=\"25%\"><img src=\"../../../media/decartes.jpg\"\n",
    "alt=\"DeCART Icon\" width=\"128\" height=\"171\"><br>\n",
    "</td>\n",
    "<td valign=\"center\" align=\"center\" width=\"75%\">\n",
    "<h1 align=\"center\"><font size=\"+3\">DeCART Summer School<br>\n",
    "for<br>\n",
    "Biomedical Data Science</font></h1></td>\n",
    "<td valign=\"center\" align=\"center\" width=\"25%\"><img\n",
    "src=\"../../../media/U_Health_stacked_png_red.png\" alt=\"Utah Health\n",
    "Logo\" width=\"128\" height=\"134\"><br>\n",
    "</td>\n",
    "</tr>\n",
    "</tbody>\n",
    "</table>\n",
    "<br>\n",
    "</html>"
   ]
  },
  {
   "cell_type": "markdown",
   "metadata": {},
   "source": [
    "# Unix/Linux Pipes\n",
    "\n",
    "One of the design features that made Unix so successful when it was introduced and has contributed to its persistence is [piping](https://goo.gl/jxckPM): the output from one program can be used directly as input to another program. This Unix pipeline architecture is used extensively in bioinformatics.\n",
    "\n",
    "Piping is does with the vertical bar character (``|``). The syntax is as follows:\n",
    "\n",
    "```bash\n",
    "cmd1 [ARGUMENTS AND OPTIONS] | cmd2\n",
    "```\n",
    "\n",
    "We execute ``cmd1`` with any necessary arguments and options then the output from this is passed directly to cmd2 as input.\n"
   ]
  },
  {
   "cell_type": "code",
   "execution_count": null,
   "metadata": {},
   "outputs": [],
   "source": [
    "from pipes_quizzes import *"
   ]
  },
  {
   "cell_type": "code",
   "execution_count": null,
   "metadata": {},
   "outputs": [],
   "source": [
    "%%bash\n",
    "ls -l ~/DATA/Misc | grep icd"
   ]
  },
  {
   "cell_type": "markdown",
   "metadata": {},
   "source": [
    "## Exercise\n",
    "\n",
    "Use ``grep``, ``wc``, and piping to use a single line to count how many occurrences of \"Oct. 17\" occur in ``~/DATA/Misc/obits.txt``. "
   ]
  },
  {
   "cell_type": "code",
   "execution_count": null,
   "metadata": {},
   "outputs": [],
   "source": [
    "%%bash\n"
   ]
  },
  {
   "cell_type": "code",
   "execution_count": null,
   "metadata": {},
   "outputs": [],
   "source": [
    "oct_17()"
   ]
  },
  {
   "cell_type": "markdown",
   "metadata": {},
   "source": [
    "## Exploring [Ontologies](https://goo.gl/PwDFQk)\n",
    "\n",
    "One of the most important tasks in biomedical informatics and data science is to unambiguously represent knowledge and data. A central part of this task is developing **ontologies**:\n",
    "\n",
    ">In the context of computer and information sciences, an ontology defines a set of representational primitives with which to model a domain of knowledge or discourse.  The representational primitives are typically classes (or sets), attributes (or properties), and relationships (or relations among class members).  The definitions of the representational primitives include information about their meaning and constraints on their logically consistent application. (Tom Gruber, [\"Ontology\"](http://tomgruber.org/writing/ontology-definition-2007.htm))\n",
    "\n",
    "The [Human Disease Ontology](http://disease-ontology.org/) is an ontology that describes human diseases and their relationships. \n",
    "\n",
    ">The Disease Ontology has been developed as a standardized ontology for human disease with the purpose of providing the biomedical community with consistent, reusable and sustainable descriptions of human disease terms, phenotype characteristics and related medical vocabulary disease concepts through collaborative efforts of researchers at Northwestern University, Center for Genetic Medicine and the University of Maryland School of Medicine, Institute for Genome Sciences. ([Disease Ontology](http://disease-ontology.org/))\n",
    "\n",
    "Below is an excerpt from the Disease Ontology\n",
    "\n",
    "![disease ontology](../../../media/disease_graphs.png)\n",
    "\n",
    "Each node (oval) on the graph is a concept (e.g. \"cancer\") in the ontology. Each edge (arrow) on the graph **is a** relationship (e.g. \n",
    "\"fallopian tube carcinosarcoma\" **is a** kind of \"fallopian tube cancer\")"
   ]
  },
  {
   "cell_type": "markdown",
   "metadata": {},
   "source": [
    "## Exercise\n",
    "\n",
    "The file ``~/DATA/Misc/doid.obo`` is an [OBO](http://owlcollab.github.io/oboformat/doc/GO.format.obo-1_2.html) representation of the Human Disease Ontology.\n",
    "\n",
    "Use ``more`` or ``less`` to explore ``doid.obo``. Based on your exploration, write a single line that counts how many unique concepts (entries) are in the ontology."
   ]
  },
  {
   "cell_type": "code",
   "execution_count": null,
   "metadata": {},
   "outputs": [],
   "source": [
    "%%bash\n"
   ]
  },
  {
   "cell_type": "code",
   "execution_count": null,
   "metadata": {},
   "outputs": [],
   "source": [
    "concepts()"
   ]
  },
  {
   "cell_type": "markdown",
   "metadata": {},
   "source": [
    "How many **is a** relationships are there in the ontology"
   ]
  },
  {
   "cell_type": "code",
   "execution_count": null,
   "metadata": {},
   "outputs": [],
   "source": [
    "%%bash\n"
   ]
  },
  {
   "cell_type": "code",
   "execution_count": null,
   "metadata": {},
   "outputs": [],
   "source": [
    "relationships()"
   ]
  },
  {
   "cell_type": "code",
   "execution_count": null,
   "metadata": {},
   "outputs": [],
   "source": []
  }
 ],
 "metadata": {
  "kernelspec": {
   "display_name": "Python 3",
   "language": "python",
   "name": "python3"
  },
  "language_info": {
   "codemirror_mode": {
    "name": "ipython",
    "version": 3
   },
   "file_extension": ".py",
   "mimetype": "text/x-python",
   "name": "python",
   "nbconvert_exporter": "python",
   "pygments_lexer": "ipython3",
   "version": "3.5.5"
  }
 },
 "nbformat": 4,
 "nbformat_minor": 1
}
