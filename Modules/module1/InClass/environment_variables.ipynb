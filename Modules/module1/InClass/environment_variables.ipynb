{
 "cells": [
  {
   "cell_type": "markdown",
   "metadata": {},
   "source": [
    "## Environment Variables\n",
    "\n",
    ">Environment variables are a set of dynamic named values that can affect the way running processes will behave on a computer.\n",
    "\n",
    ">They are part of the environment in which a process runs. For example, a running process can query the value of the TEMP environment variable to discover a suitable location to store temporary files, or the HOME or USERPROFILE variable to find the directory structure owned by the user running the process.\n",
    "\n",
    ">They were introduced in their modern form in 1979 with Version 7 Unix, so are included in all Unix operating system flavors and variants from that point onward including Linux and OS X. From PC DOS 2.0 in 1982, all succeeding Microsoft operating systems including Microsoft Windows, and OS/2 also have included them as a feature, although with somewhat different syntax, usage and standard variable names. ([Wikipedia](https://en.wikipedia.org/wiki/Environment_variable))\n",
    "\n"
   ]
  },
  {
   "cell_type": "markdown",
   "metadata": {},
   "source": [
    "## Two Important Environment Variables\n",
    "\n",
    "* ``HOME``: contains the home directory for the current user.\n",
    "* ``PATH``: ``PATH`` is the environment variable that tells your computer which directories to search for exectuable programs. I can see the value of a variable by typing ``echo $VARIABLE_NAME``."
   ]
  },
  {
   "cell_type": "code",
   "execution_count": null,
   "metadata": {},
   "outputs": [],
   "source": [
    "%%bash\n",
    "echo $HOME\n",
    "echo $PATH"
   ]
  },
  {
   "cell_type": "markdown",
   "metadata": {},
   "source": [
    "For ``PATH`` what we see is a colon separated list of directories. If I want to run an executable program, for example python, the way ``PATH`` is used is the computer looks in the first directory in ``PATH`` for an executable named ``python``. If it finds it, the program ``python`` in that directory is executed. If it is not found, then it goes to the next directory in ``PATH`` and so on. If all of ``PATH`` is searched and no matching executable is found, you will get an error message: \"CMD: command not found\". I can use the Unix command ``which`` to tell me where in the ``PATH`` a particular program was found. Here are some examples.  "
   ]
  },
  {
   "cell_type": "code",
   "execution_count": null,
   "metadata": {},
   "outputs": [],
   "source": [
    "%%bash\n",
    "which python"
   ]
  },
  {
   "cell_type": "code",
   "execution_count": null,
   "metadata": {},
   "outputs": [],
   "source": [
    "%%bash\n",
    "which awk"
   ]
  },
  {
   "cell_type": "code",
   "execution_count": null,
   "metadata": {},
   "outputs": [],
   "source": [
    "%%bash\n",
    "which ziggy"
   ]
  },
  {
   "cell_type": "code",
   "execution_count": null,
   "metadata": {},
   "outputs": [],
   "source": [
    "%%bash\n",
    "ziggy"
   ]
  },
  {
   "cell_type": "markdown",
   "metadata": {},
   "source": [
    "We can use the ``set`` command to see what environment variables are set."
   ]
  },
  {
   "cell_type": "code",
   "execution_count": null,
   "metadata": {},
   "outputs": [],
   "source": [
    "%%bash\n",
    "set"
   ]
  },
  {
   "cell_type": "markdown",
   "metadata": {},
   "source": [
    "#### Note the convetion that environment variables are all uppercase"
   ]
  },
  {
   "cell_type": "markdown",
   "metadata": {},
   "source": [
    "[Here](https://swcarpentry.github.io/shell-extras/08-environment-variables.html) is a very short tutorial that you can look over. You can play around with environment variables within the notebook (as I have done) or by opening a terminal.\n",
    "![Launching a terminal through Jupyter](../../../media/launching_terminal.png)"
   ]
  },
  {
   "cell_type": "markdown",
   "metadata": {},
   "source": [
    "## Creating new Environment Variables\n",
    "\n",
    "I can create an environment variable with a simple assingment. This will be a **local** variable, visible only to the current bash process."
   ]
  },
  {
   "cell_type": "code",
   "execution_count": null,
   "metadata": {},
   "outputs": [],
   "source": [
    "%%bash\n",
    "MYNAME=Brian\n",
    "echo $MYNAME\n",
    "echo\n",
    "set \n",
    "echo \"*******************\"\n",
    "env \n"
   ]
  },
  {
   "cell_type": "markdown",
   "metadata": {},
   "source": [
    "## Exporting an environment variable\n",
    "\n",
    "If I want to make a variable accessible to child processes, I need to **export** that variable. Exporting variables would be our standard practice.\n"
   ]
  },
  {
   "cell_type": "code",
   "execution_count": null,
   "metadata": {},
   "outputs": [],
   "source": [
    "%%bash\n",
    "export MYNAME=Brian\n",
    "echo $MYNAME\n",
    "echo\n",
    "env"
   ]
  },
  {
   "cell_type": "markdown",
   "metadata": {},
   "source": [
    "### All these changes are local\n",
    "#### If I start a different shell, ``MYNAME`` will not be defined"
   ]
  },
  {
   "cell_type": "code",
   "execution_count": null,
   "metadata": {},
   "outputs": [],
   "source": [
    "%%bash\n",
    "echo $MYNAME"
   ]
  },
  {
   "cell_type": "markdown",
   "metadata": {},
   "source": [
    "## Modifying Existing Environment Variables\n",
    "\n",
    "The environment variable are mutable (they can change). This should be done cautiously, as you can easily render your system unusable."
   ]
  },
  {
   "cell_type": "code",
   "execution_count": null,
   "metadata": {},
   "outputs": [],
   "source": [
    "%%bash\n",
    "echo $HOME\n",
    "echo\n",
    "HOME=/somwhere\n",
    "echo $HOME"
   ]
  },
  {
   "cell_type": "code",
   "execution_count": null,
   "metadata": {},
   "outputs": [],
   "source": [
    "%%bash\n",
    "PATH=$HOME/bin:$HOME/DATA\n",
    "ls\n",
    "cat ~/.bashrc\n",
    "python\n",
    "which\n",
    "cd ~\n",
    "pwd"
   ]
  },
  {
   "cell_type": "markdown",
   "metadata": {},
   "source": [
    "By changing the PATH variable, we have lost access to most of the Linux functions (e.g. ls, cat)"
   ]
  },
  {
   "cell_type": "markdown",
   "metadata": {},
   "source": [
    "### Modifying ``PATH``\n",
    "\n",
    "As described above, ``PATH`` is the variable that stores the list of directories that the operating system searches for executable programs. The way we will typically modify ``PATH`` is by pre-pending or appending directories to the existing ``PATH`` list. Pre-pending and appending can have radically different effects."
   ]
  },
  {
   "cell_type": "code",
   "execution_count": null,
   "metadata": {},
   "outputs": [],
   "source": [
    "%%bash\n",
    "rm -r ~/bin\n",
    "mkdir ~/bin\n",
    "cp ./ls ~/bin/.\n",
    "chmod +x ~/bin/ls"
   ]
  },
  {
   "cell_type": "code",
   "execution_count": null,
   "metadata": {},
   "outputs": [],
   "source": [
    "%%bash\n",
    "~/bin/ls"
   ]
  },
  {
   "cell_type": "code",
   "execution_count": null,
   "metadata": {},
   "outputs": [],
   "source": [
    "%%bash\n",
    "which ls"
   ]
  },
  {
   "cell_type": "markdown",
   "metadata": {},
   "source": [
    "#### Now let's modify path by pre-pending ``~/bin``"
   ]
  },
  {
   "cell_type": "code",
   "execution_count": null,
   "metadata": {},
   "outputs": [],
   "source": [
    "%%bash\n",
    "\n",
    "PATH=$HOME/bin:$PATH\n",
    "echo\n",
    "\n",
    "which ls\n",
    "echo\n",
    "ls ~/DATA/Misc\n"
   ]
  },
  {
   "cell_type": "code",
   "execution_count": null,
   "metadata": {},
   "outputs": [],
   "source": [
    "%%bash\n",
    "echo $PATH\n",
    "export PATH=$PATH:$HOME/bin\n",
    "which ls\n",
    "ls ~/DATA/Misc\n"
   ]
  },
  {
   "cell_type": "code",
   "execution_count": null,
   "metadata": {},
   "outputs": [],
   "source": [
    "%%bash\n",
    "echo $PATH"
   ]
  },
  {
   "cell_type": "code",
   "execution_count": null,
   "metadata": {},
   "outputs": [],
   "source": []
  },
  {
   "cell_type": "code",
   "execution_count": null,
   "metadata": {},
   "outputs": [],
   "source": []
  }
 ],
 "metadata": {
  "kernelspec": {
   "display_name": "Python 3",
   "language": "python",
   "name": "python3"
  },
  "language_info": {
   "codemirror_mode": {
    "name": "ipython",
    "version": 3
   },
   "file_extension": ".py",
   "mimetype": "text/x-python",
   "name": "python",
   "nbconvert_exporter": "python",
   "pygments_lexer": "ipython3",
   "version": "3.5.5"
  }
 },
 "nbformat": 4,
 "nbformat_minor": 1
}
