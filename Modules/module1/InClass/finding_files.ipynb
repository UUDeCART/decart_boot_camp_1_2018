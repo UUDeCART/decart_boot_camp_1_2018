{
 "cells": [
  {
   "cell_type": "markdown",
   "metadata": {},
   "source": [
    "<html>\n",
    "<table width=\"100%\" cellspacing=\"2\" cellpadding=\"2\" border=\"1\">\n",
    "<tbody>\n",
    "<tr>\n",
    "<td valign=\"center\" align=\"center\" width=\"25%\"><img src=\"../../../media/decartes.jpg\"\n",
    "alt=\"DeCART Icon\" width=\"128\" height=\"171\"><br>\n",
    "</td>\n",
    "<td valign=\"center\" align=\"center\" width=\"75%\">\n",
    "<h1 align=\"center\"><font size=\"+1\">DeCART Summer School<br>\n",
    "for<br>\n",
    "Biomedical Data Science</font></h1></td>\n",
    "<td valign=\"center\" align=\"center\" width=\"25%\"><img\n",
    "src=\"../../../media/U_Health_stacked_png_red.png\" alt=\"Utah Health\n",
    "Logo\" width=\"128\" height=\"134\"><br>\n",
    "</td>\n",
    "</tr>\n",
    "</tbody>\n",
    "</table>\n",
    "<br>\n",
    "</html>"
   ]
  },
  {
   "cell_type": "markdown",
   "metadata": {},
   "source": [
    "# Finding things\n",
    "\n",
    "One of the recurring challenges we face is finding the files with content that we are interested in. In the simplest case, this search would be based on the filename. More complicated searches would be based on the content. Once we can find content in files, then we can extract the relevant data from the files.\n",
    "\n",
    "In this notebook, we will explore the following Unix tools:\n",
    "\n",
    "* [``find``](https://en.wikibooks.org/wiki/Guide_to_Unix/Commands/Finding_Files)\n",
    "* [``grep``]()\n",
    "\n",
    "### Some highlights\n",
    "* ``find``: find files with names matching some criteria\n",
    "* ``grep``: look for patterns within files\n",
    "\n",
    "I frequently use ``grep`` and ``find`` together to find where I've used particular code snippets.\n"
   ]
  },
  {
   "cell_type": "markdown",
   "metadata": {},
   "source": [
    "### Using Python for quizzes \n",
    "\n",
    "We're going to import some Python code here that we will use later to evaluate quizzes."
   ]
  },
  {
   "cell_type": "code",
   "execution_count": null,
   "metadata": {},
   "outputs": [],
   "source": [
    "from finding_quizzes import *"
   ]
  },
  {
   "cell_type": "markdown",
   "metadata": {},
   "source": [
    "## ``find``\n",
    "\n",
    "``find``, as the name implies, finds files. The syntax for ``find`` is as follows:\n",
    "\n",
    "```bash\n",
    "find path_to_start_search [optional expression(s)]\n",
    "```\n",
    "\n",
    "#### Note: In newer versions of Unix/Linux the results are printed by default. In older versions, you need to provide a `-print` option.\n",
    "\n",
    "If I do not provide any expressions, all files under the specified print will be found."
   ]
  },
  {
   "cell_type": "code",
   "execution_count": null,
   "metadata": {},
   "outputs": [],
   "source": [
    "%%bash\n",
    "\n",
    "find . "
   ]
  },
  {
   "cell_type": "markdown",
   "metadata": {},
   "source": [
    "### ``-name``\n",
    "\n",
    "Finding all the files, is probably not too helpful in general. Finding files with a certain name would be more useful.\n",
    "\n",
    "#### Example: Finding all files named ``python`` in the file system"
   ]
  },
  {
   "cell_type": "code",
   "execution_count": null,
   "metadata": {},
   "outputs": [],
   "source": [
    "%%bash\n",
    "\n",
    "find / -name 'python'"
   ]
  },
  {
   "cell_type": "markdown",
   "metadata": {},
   "source": [
    "#### Why are we getting these ``Permission denied`` errors?"
   ]
  },
  {
   "cell_type": "code",
   "execution_count": null,
   "metadata": {},
   "outputs": [],
   "source": [
    "%%bash\n",
    "find ~ -name 'README'"
   ]
  },
  {
   "cell_type": "markdown",
   "metadata": {},
   "source": [
    "### ``-iname``\n",
    "\n",
    "Linux/Unix is case sensitive, so if I want to find files matching a name, ignoring case, I use ``-iname`` rather than ``-name``."
   ]
  },
  {
   "cell_type": "code",
   "execution_count": null,
   "metadata": {},
   "outputs": [],
   "source": [
    "%%bash\n",
    "find / -iname 'README'"
   ]
  },
  {
   "cell_type": "markdown",
   "metadata": {},
   "source": [
    "## [wildcards](https://en.wikibooks.org/wiki/A_Quick_Introduction_to_Unix/Wildcards)\n",
    "\n",
    "Finding files becomes more powerful when we search for names matching a pattern. Linux provides **wildcards** that match variable characters.\n",
    "\n",
    "### ``*`` \n",
    "\n",
    "The asterisk character stands for zero or more characters (any characters).\n",
    "\n",
    "The filename for these Jupyter notebooks have ``.ipynb`` as a suffix, so if I want to find all the Jupyter notebooks in a directory tree, I would do the following:"
   ]
  },
  {
   "cell_type": "code",
   "execution_count": null,
   "metadata": {},
   "outputs": [],
   "source": [
    "%%bash\n",
    "find ~/work/decart_boot_camp_1_2018 -name '*.ipynb'\n"
   ]
  },
  {
   "cell_type": "markdown",
   "metadata": {},
   "source": [
    "### ``?`` \n",
    "\n",
    "The question mark character stands for one character (any character)."
   ]
  },
  {
   "cell_type": "markdown",
   "metadata": {},
   "source": [
    "## Exercise\n",
    "\n",
    "In the ~/DATA directory there are [WAVE files](https://en.wikipedia.org/wiki/WAV) (.wav) that are recordings of various heart anomalies. There are two types of Mitral valve problems: mitral stenosis (ms) and mitral regurgitation (mr). Use find with wildcards to find all the \"ms\" and \"mr\" WAVE files. Make sure that you do not match other files, for example pulmonary stenosis (ps). How many mitral WAVE files are there? How many WAVE files are there?"
   ]
  },
  {
   "cell_type": "code",
   "execution_count": null,
   "metadata": {},
   "outputs": [],
   "source": [
    "%%bash\n",
    "find ~/DATA -name 'm?.wav'"
   ]
  },
  {
   "cell_type": "code",
   "execution_count": null,
   "metadata": {},
   "outputs": [],
   "source": [
    "mitral_files(1)"
   ]
  },
  {
   "cell_type": "code",
   "execution_count": null,
   "metadata": {},
   "outputs": [],
   "source": [
    "wave_files()"
   ]
  },
  {
   "cell_type": "markdown",
   "metadata": {},
   "source": [
    "### Multiple search conditions\n",
    "\n",
    "#### AND\n",
    "\n",
    "We can just concatenate multiple conditions to form logical AND. \n",
    "\n",
    "So if we want to find only directories named \"Python\", we can combine the ``-d`` flag with a ``-name`` condition:"
   ]
  },
  {
   "cell_type": "code",
   "execution_count": null,
   "metadata": {},
   "outputs": [],
   "source": [
    "%%bash\n",
    "find / -iname \"python\" -d"
   ]
  },
  {
   "cell_type": "markdown",
   "metadata": {},
   "source": [
    "## Exercise \n",
    "\n",
    "Use the find command to identify all the ``.txt`` files in ``~/DATA`` that are larger than 10 kBytes."
   ]
  },
  {
   "cell_type": "code",
   "execution_count": null,
   "metadata": {},
   "outputs": [],
   "source": [
    "%%bash\n"
   ]
  },
  {
   "cell_type": "code",
   "execution_count": null,
   "metadata": {},
   "outputs": [],
   "source": [
    "find_10k_files()"
   ]
  },
  {
   "cell_type": "markdown",
   "metadata": {},
   "source": [
    "#### OR\n",
    "\n",
    "Find files matching name1 OR name2.\n",
    "\n",
    "Doing an OR is more complicated.\n",
    "\n",
    "* We separate our conditions with a ``-o`` flag\n",
    "* Our whole expression needs to be wrapped in parentheses ()\n",
    "* Because parentheses are special in the shell, they need to be **escaped**: ``\\(`` and ``\\)``\n",
    "\n"
   ]
  },
  {
   "cell_type": "code",
   "execution_count": null,
   "metadata": {},
   "outputs": [],
   "source": [
    "%%bash\n",
    "find ~ \\( -name '*.db' -o -name '*.sqlite' \\)"
   ]
  },
  {
   "cell_type": "markdown",
   "metadata": {},
   "source": [
    "## [grep](https://en.wikibooks.org/wiki/Grep)\n",
    "\n",
    "grep is a Unix/Linux program that is very useful for identifying content within files. There are a lot of [options](http://linuxcommand.org/man_pages/grep1.html) with grep, most of which are beyond the scope of this class. In this section, we will review some of the basic yet very useful functionality of grep.\n",
    "\n",
    "* Provide a pattern we want to find (e.g. \"chapel\")\n",
    "* A file or list of files within which to search for the pattern\n",
    "\n",
    "In ``~/DATA/Misc/``, there is a file ``obits.txt``. We'll use grep to look for the word \"chapel\" in the file"
   ]
  },
  {
   "cell_type": "code",
   "execution_count": null,
   "metadata": {},
   "outputs": [],
   "source": [
    "%%bash\n",
    "grep chapel ~/DATA/Misc/obits.txt"
   ]
  },
  {
   "cell_type": "markdown",
   "metadata": {},
   "source": [
    "#### We can use the ``-i`` flag to ignore case in our pattern (and file names)\n"
   ]
  },
  {
   "cell_type": "code",
   "execution_count": null,
   "metadata": {},
   "outputs": [],
   "source": [
    "%%bash\n",
    "grep -i chapel ~/DATA/Misc/obits.txt"
   ]
  },
  {
   "cell_type": "markdown",
   "metadata": {},
   "source": [
    "#### We can use the ``-c`` flag to just count the number of occurrences in a file"
   ]
  },
  {
   "cell_type": "code",
   "execution_count": null,
   "metadata": {},
   "outputs": [],
   "source": [
    "%%bash\n",
    "grep -i -c chapel ~/DATA/Misc/obits.txt"
   ]
  },
  {
   "cell_type": "markdown",
   "metadata": {},
   "source": [
    "#### We can use the ``-r`` flag to search all the files under a directory"
   ]
  },
  {
   "cell_type": "code",
   "execution_count": null,
   "metadata": {},
   "outputs": [],
   "source": [
    "%%bash\n",
    "grep -i -c -r chapel ~/DATA/Misc"
   ]
  },
  {
   "cell_type": "markdown",
   "metadata": {},
   "source": [
    "#### We use the ``-l`` flag to just list the files where matches were found"
   ]
  },
  {
   "cell_type": "code",
   "execution_count": null,
   "metadata": {},
   "outputs": [],
   "source": [
    "%%bash\n",
    "grep -i -l -r chapel ~/DATA/Misc"
   ]
  },
  {
   "cell_type": "markdown",
   "metadata": {},
   "source": [
    "#### We can provide a list of files "
   ]
  },
  {
   "cell_type": "code",
   "execution_count": null,
   "metadata": {},
   "outputs": [],
   "source": [
    "%%bash\n",
    "grep -i  chapel ~/DATA/Misc/obits.txt \\\n",
    "~/DATA/Misc/icd9-short.txt"
   ]
  },
  {
   "cell_type": "code",
   "execution_count": null,
   "metadata": {},
   "outputs": [],
   "source": [
    "%%bash\n",
    "grep -i  chapel ~/DATA/Misc/*.txt"
   ]
  },
  {
   "cell_type": "markdown",
   "metadata": {},
   "source": [
    "#### We can search for regular expressions\n",
    "\n",
    "Regular expressions can be quite complicated and there are a variety of flavors of regular expressions.\n",
    "\n",
    "The period (``.``) matches a single character. So if we want to find all the patients in their seventies, we could use a grep expression like the following;"
   ]
  },
  {
   "cell_type": "code",
   "execution_count": null,
   "metadata": {},
   "outputs": [],
   "source": [
    "%%bash\n",
    "grep '7.-year-old' ~/DATA/Misc/*.txt"
   ]
  },
  {
   "cell_type": "markdown",
   "metadata": {},
   "source": [
    "## Exercise\n",
    "In the ``~/DATA/Numerics/mimic2`` directory are a series of directories with numeric physiological data measured from patients in an ICU: ``hr`` (heart rate), ``bp`` (blood pressure), ``uo`` (urine output), ``wbc`` (white blood count). Under each of these directories is another directory named ``subjects`` which contains text files containing the measured values. \n",
    "\n",
    "The naming convention for the filenames is the patient ID (e.g. ``9936``) followed by ``.txt``. Thus ``~/DATA/Numerics/mimic2/hr/subjects/9936.txt`` contains the heart rate measurements for patient \\#9936 while ``~/DATA/Numerics/mimic2/bp/subjects/9936.txt`` contains the blood pressure measurements for the same patient. \n",
    "\n",
    "1. Use ``grep`` and the redirect operator (``>``) to create a file with all the patients that have a heart rate measurement greater than or equal to 200. \n",
    "1. Repeat this to create a file with all the patients that have a blood pressure measurement greater than or equal to 200.\n",
    "1. Use the [``grep -Fx -f``](https://en.wikibooks.org/wiki/Grep) command to create a new file that contains the patients that are in both the heart rate greater than or equal to 200 file and the blood pressure greater than or equal to 200 file.\n",
    "1. Finally, use the [``wc``](https://goo.gl/yhV8AJ) (word count) command with the ``-l`` option to count the number of patients matching both conditions."
   ]
  },
  {
   "cell_type": "code",
   "execution_count": null,
   "metadata": {},
   "outputs": [],
   "source": [
    "bp_hr_ge200()"
   ]
  },
  {
   "cell_type": "code",
   "execution_count": null,
   "metadata": {},
   "outputs": [],
   "source": []
  }
 ],
 "metadata": {
  "kernelspec": {
   "display_name": "Python 3",
   "language": "python",
   "name": "python3"
  },
  "language_info": {
   "codemirror_mode": {
    "name": "ipython",
    "version": 3
   },
   "file_extension": ".py",
   "mimetype": "text/x-python",
   "name": "python",
   "nbconvert_exporter": "python",
   "pygments_lexer": "ipython3",
   "version": "3.5.5"
  }
 },
 "nbformat": 4,
 "nbformat_minor": 1
}
