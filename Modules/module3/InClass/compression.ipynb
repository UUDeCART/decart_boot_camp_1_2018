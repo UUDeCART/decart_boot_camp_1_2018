{
 "cells": [
  {
   "cell_type": "markdown",
   "metadata": {},
   "source": [
    "<html>\n",
    "<table width=\"100%\" cellspacing=\"2\" cellpadding=\"2\" border=\"1\">\n",
    "<tbody>\n",
    "<tr>\n",
    "<td valign=\"center\" align=\"center\" width=\"25%\"><img src=\"../../../media/decartes.jpg\"\n",
    "alt=\"DeCART Icon\" width=\"128\" height=\"171\"><br>\n",
    "</td>\n",
    "<td valign=\"center\" align=\"center\" width=\"75%\">\n",
    "<h1 align=\"center\"><font size=\"+1\">DeCART Summer School<br>\n",
    "for<br>\n",
    "Biomedical Data Science</font></h1></td>\n",
    "<td valign=\"center\" align=\"center\" width=\"25%\"><img\n",
    "src=\"../../../media/U_Health_stacked_png_red.png\" alt=\"Utah Health\n",
    "Logo\" width=\"128\" height=\"134\"><br>\n",
    "</td>\n",
    "</tr>\n",
    "</tbody>\n",
    "</table>\n",
    "<br>\n",
    "</html>"
   ]
  },
  {
   "cell_type": "markdown",
   "metadata": {},
   "source": [
    "# Compression and Archiving\n",
    "\n",
    "Data are often [compressed](https://en.wikipedia.org/wiki/Data_compression) to reduce file sizes for saving disk space or decrease transmission time. Compression takes advantage of redundancy in the data to come up with a more efficient representation of the data. To get an idea of what I mean by redundancy, we'll take as an example a CT image of the chest.\n",
    "\n",
    "CT images are reconstructed on a 512x512 array, but only the circle in the center contains any rendering of the physical object being imaged. Outside of this circle is just a uniformly black region (value of -2048).\n",
    "\n",
    "![chest CT](../../../media/ctsmall.png) <!--slice 97-->\n",
    "\n",
    "## Exercise\n",
    "\n",
    "### Use the cell below to explore the CT image\n",
    "\n",
    "#### As ``i`` approaches 0 or 512 note sections of uniformity in the image\n",
    "#### How much data (bytes) is it taking to represent a line in the image?\n",
    "#### Can you think of a more efficient (compact) way of representing a line in the image?"
   ]
  },
  {
   "cell_type": "code",
   "execution_count": null,
   "metadata": {},
   "outputs": [],
   "source": [
    "import compression_quizzes as cq\n",
    "import os\n",
    "cq.examine_img(os.path.join(os.path.expanduser(\"~\"),\"DATA/Images/PE/Ser_000006/IM-0124-0097.dcm\"))"
   ]
  },
  {
   "cell_type": "markdown",
   "metadata": {},
   "source": [
    "## Exercise\n",
    "\n",
    "### Here is a DNA Sequence\n",
    "#### Can you think of how it might be compressed?\n",
    "AAAACATCAGTATCCATCAGGATCAGTTTGGAAAGGGAGAGGCAATTTTTCCTAAACATGTGTTCAAATGGTCTGAGACAGACGTTAAAATGAAAAGGGG"
   ]
  },
  {
   "cell_type": "markdown",
   "metadata": {},
   "source": [
    "## [Data Compression](https://en.wikipedia.org/wiki/Data_compression)\n",
    "\n",
    "The data compression algorithms used in practice are quite sophisticated. They can be organized into two categories:\n",
    "\n",
    "* [Lossless compression](https://en.wikipedia.org/wiki/Lossless_compression): The data can be compressed and uncompressed exactly.\n",
    "* [Lossy compression](https://en.wikipedia.org/wiki/Lossy_compression): Information is thrown away so that the the compression/uncompression cycle results in a loss of information. The benefit of this approach is that we can get much greater compression levels, often with minimal loss of data quality.\n"
   ]
  },
  {
   "cell_type": "markdown",
   "metadata": {},
   "source": [
    "## Use Python to Save JPEG Images with Varying Quality\n",
    "\n",
    "### The lower tha quality, the higher the compression\n"
   ]
  },
  {
   "cell_type": "code",
   "execution_count": null,
   "metadata": {},
   "outputs": [],
   "source": [
    "import PIL\n",
    "fname = \"../../../nci/04\"\n",
    "for q in range(100, 0, -10):\n",
    "    PIL.Image.open(fname+\".jpg\").save(\"%s_%03d.jpg\"%(fname,q), quality=q)\n",
    "# Save a TIFF for reference\n",
    "PIL.Image.open(fname+\".jpg\").save(\"%s_.tiff\"%(fname,))"
   ]
  },
  {
   "cell_type": "markdown",
   "metadata": {},
   "source": [
    "### What are the sizes of the Images?"
   ]
  },
  {
   "cell_type": "code",
   "execution_count": null,
   "metadata": {},
   "outputs": [],
   "source": [
    "%%bash\n",
    "ls -lS ../../../nci"
   ]
  },
  {
   "cell_type": "code",
   "execution_count": null,
   "metadata": {},
   "outputs": [],
   "source": [
    "from IPython.display import Image\n",
    "Image(\"../../../nci/04_010.jpg\")"
   ]
  },
  {
   "cell_type": "markdown",
   "metadata": {},
   "source": [
    "### When is compression too high? What constitutes image quality?"
   ]
  },
  {
   "cell_type": "markdown",
   "metadata": {},
   "source": [
    "## Data compression tools\n",
    "\n",
    "There are a variety of compression tools and algorithms available. We are going to be sticking with a common compression tool ``gzip`` (``gunzip``).\n",
    "\n",
    "* [``gzip``](https://www.gnu.org/software/gzip/manual/gzip.html) compresses a file. By default it replaces the named file with a compressed version\n",
    "* [``gunzip``](https://www.gnu.org/software/gzip/manual/gzip.html) takes a compressed file and replaces it with the uncompressed version.\n",
    "\n",
    "#### To demonstrate this, let's make a directory and copy some of the files from ``~/DATA/Misc``."
   ]
  },
  {
   "cell_type": "code",
   "execution_count": null,
   "metadata": {},
   "outputs": [],
   "source": [
    "%%bash\n",
    "\n",
    "mkdir ~/work/compression\n",
    "cp ~/DATA/Misc/carotid.txt ~/work/compression/\n",
    "cd ~/work/compression\n",
    "\n",
    "ls -l\n",
    "gzip carotid.txt\n",
    "ls -l\n",
    "\n",
    "gunzip carotid.txt.gz\n",
    "ls -l\n"
   ]
  },
  {
   "cell_type": "markdown",
   "metadata": {},
   "source": [
    "#### We can use the ``-c`` with the redirect operator (``>``) option to write the compressed file to a new file rather than replacing the source file\n",
    "\n",
    "* Remember we don't have write permission in ``~/DATA/Misc``.\n",
    "* What happens if you try to compress a file in ``~/DATA/Misc``?"
   ]
  },
  {
   "cell_type": "code",
   "execution_count": null,
   "metadata": {},
   "outputs": [],
   "source": [
    "%%bash\n",
    "\n",
    "gzip -c ~/DATA/Misc/Accidents7904.csv > ~/work/compression/Accidents7904.csv.gz\n",
    "ls -l ~/work/compression"
   ]
  },
  {
   "cell_type": "markdown",
   "metadata": {},
   "source": [
    "#### We can use the -l option to see what the compression rate is on a compressed file\n"
   ]
  },
  {
   "cell_type": "code",
   "execution_count": null,
   "metadata": {},
   "outputs": [],
   "source": [
    "%%bash\n",
    "gzip -l ~/work/compression/Accidents7904.csv.gz"
   ]
  },
  {
   "cell_type": "markdown",
   "metadata": {},
   "source": [
    "### How effectively can we compress different types of files?"
   ]
  },
  {
   "cell_type": "markdown",
   "metadata": {},
   "source": [
    "## Exercise\n",
    "\n",
    "Run each of the command pairs below. Which files compress the most?"
   ]
  },
  {
   "cell_type": "code",
   "execution_count": null,
   "metadata": {},
   "outputs": [],
   "source": [
    "%%bash\n",
    "gzip -c ~/DATA/Misc/carotid.txt > ~/work/compression/carotid.txt.gz\n",
    "gzip -l ~/work/compression/carotid.txt.gz\n",
    "\n",
    "gzip -c ~/DATA/Images/PE/Ser_000006/IM-0124-0097.dcm > ~/work/compression/IM-0124-0097.dcm\n",
    "gzip -l ~/work/compression/IM-0124-0097.dcm\n",
    "\n",
    "gzip -c ~/work/nci/04.jpg > ~/work/compression/04.jpg.gz\n",
    "gzip -l ~/work/compression/04.jpg.gz\n",
    "\n",
    "gzip -c ~/work/nci/04_.tiff > ~/work/compression/04_.tiff.gz\n",
    "gzip -l ~/work/compression/04_.tiff.gz"
   ]
  },
  {
   "cell_type": "markdown",
   "metadata": {},
   "source": [
    "#### Compare the size of ``04_.tiff.gz`` to ``04.jpg``"
   ]
  },
  {
   "cell_type": "markdown",
   "metadata": {},
   "source": [
    "## [``tar``](http://linuxcommand.org/man_pages/tar1.html)\n",
    "\n",
    "``tar`` stands for **t**ape **ar**chive. It can be used to create a single file archive of a directory structure. Like most Unix programs, there are many, many options. Here are a few of the common ways that I use tar:\n",
    "\n",
    "### Create a compressed archive\n",
    "\n",
    "```bash\n",
    "tar cvf ~/Modules.tar Modules\n",
    "```\n",
    "\n",
    "This creates an archive of the directory ``Modules`` named ``Modules.tar`` in the home directory.\n",
    "\n",
    "```bash\n",
    "tar cvfz ~/Modules.tgz Modules\n",
    "```\n",
    "\n",
    "Same as the command above, but compresses the archive with ``gzip``.\n",
    "\n",
    "```bash\n",
    "\n",
    "tar cvfz ~/notebooks.tgz `find ./Modules -name '*.ipynb'`\n",
    "```\n",
    "\n",
    "Creates an archive of all the ``.ipynb`` files found in ``./Modules``.\n",
    "\n",
    "```bash\n",
    "tar xvfz ~/notebooks.tgz -C ~/work/compression\n",
    "```\n",
    "\n",
    "Extracts the archive in ``~/work/compression``\n",
    "\n",
    "```bash\n",
    "tar tvfz ~/notebooks.tgz\n",
    "```\n",
    "\n",
    "Prints a table of contents for ``~/notebooks.tgz``.\n",
    "\n"
   ]
  },
  {
   "cell_type": "markdown",
   "metadata": {},
   "source": [
    "## Exercise\n",
    "\n",
    "Test if the following command works. Edit as needed. Explain to your neighbor the parts of the command:\n",
    "\n",
    "```bash\n",
    "\n",
    "find . -name '*.ipynb'  | grep -v \".ipynb_checkpoints\" | tar cvfz ~/a2.tgz -T -\n",
    "```"
   ]
  },
  {
   "cell_type": "markdown",
   "metadata": {},
   "source": [
    "<a rel=\"license\" href=\"http://creativecommons.org/licenses/by-nc-sa/4.0/\"><img alt=\"Creative Commons License\" style=\"border-width:0\" src=\"https://i.creativecommons.org/l/by-nc-sa/4.0/88x31.png\" /></a><br /><span xmlns:dct=\"http://purl.org/dc/terms/\" property=\"dct:title\">University of Uah Data Science for Health</span> by <span xmlns:cc=\"http://creativecommons.org/ns#\" property=\"cc:attributionName\">Brian E. Chapman</span> is licensed under a <a rel=\"license\" href=\"http://creativecommons.org/licenses/by-nc-sa/4.0/\">Creative Commons Attribution-NonCommercial-ShareAlike 4.0 International License</a>."
   ]
  },
  {
   "cell_type": "code",
   "execution_count": null,
   "metadata": {},
   "outputs": [],
   "source": []
  }
 ],
 "metadata": {
  "kernelspec": {
   "display_name": "Python 3",
   "language": "python",
   "name": "python3"
  },
  "language_info": {
   "codemirror_mode": {
    "name": "ipython",
    "version": 3
   },
   "file_extension": ".py",
   "mimetype": "text/x-python",
   "name": "python",
   "nbconvert_exporter": "python",
   "pygments_lexer": "ipython3",
   "version": "3.5.5"
  }
 },
 "nbformat": 4,
 "nbformat_minor": 2
}
