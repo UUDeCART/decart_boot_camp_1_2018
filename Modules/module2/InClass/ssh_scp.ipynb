{
 "cells": [
  {
   "cell_type": "markdown",
   "metadata": {},
   "source": [
    "<html>\n",
    "<table width=\"100%\" cellspacing=\"2\" cellpadding=\"2\" border=\"1\">\n",
    "<tbody>\n",
    "<tr>\n",
    "<td valign=\"center\" align=\"center\" width=\"25%\"><img src=\"../../../media/decartes.jpg\"\n",
    "alt=\"DeCART Icon\" width=\"128\" height=\"171\"><br>\n",
    "</td>\n",
    "<td valign=\"center\" align=\"center\" width=\"75%\">\n",
    "<h1 align=\"center\"><font size=\"+3\">DeCART Summer School<br>\n",
    "for<br>\n",
    "Biomedical Data Science</font></h1></td>\n",
    "<td valign=\"center\" align=\"center\" width=\"25%\"><img\n",
    "src=\"../../../media/U_Health_stacked_png_red.png\" alt=\"Utah Health\n",
    "Logo\" width=\"128\" height=\"134\"><br>\n",
    "</td>\n",
    "</tr>\n",
    "</tbody>\n",
    "</table>\n",
    "<br>\n",
    "</html>\n",
    "\n",
    "# Accessing Remote Computers with ``ssh`` and ``scp``\n",
    "\n",
    "\n",
    "## The ``~/.ssh`` directory"
   ]
  },
  {
   "cell_type": "code",
   "execution_count": null,
   "metadata": {},
   "outputs": [],
   "source": [
    "from ssh_quizzes import *"
   ]
  },
  {
   "cell_type": "markdown",
   "metadata": {},
   "source": [
    "### ssh\n",
    "\n",
    "SSH stands for **s**ecure **tsh**ll. ssh is a protocol that was developed in the 1990s to replace older remote connection protocols like [``telnet``](https://en.wikipedia.org/wiki/Telnet). ``ssh`` uses [public key encryption](https://en.wikipedia.org/wiki/Telnet) to encrypt the transmissions across the connection. This is important when passwords are being passed for authentication. ``telnet`` and ``ftp`` do not use encryption, so passwords are being passed across the network as free text, which can be easily intercepted. There is now a secure ftp (``sftp``) that encrypts the communication. \n",
    "\n",
    "We use ``ssh`` to connect to a remote computer. For example, I frequently connect from my laptop to a workstation in my office. Another important application would be connecting to a server in the cloud, for example a server you have setup with [Amazon Web Services](https://aws.amazon.com/free/?sc_channel=PS&sc_campaign=acquisition_US&sc_publisher=google&sc_medium=cloud_computing_b&sc_content=aws_url_e_control_q32016&sc_detail=amazon.%20web%20services&sc_category=cloud_computing&sc_segment=188908164667&sc_matchtype=e&sc_country=US&s_kwcid=AL!4422!3!188908164667!e!!g!!amazon.%20web%20services&ef_id=WVKaPAAAAfUJDrqI:20170627174740:s). \n",
    "\n",
    "For this course, we have set up a remote server called ``myssh``. To connect to this server, we will open a terminal and type the command\n",
    "\n",
    "```bash\n",
    "ssh myssh\n",
    "```\n",
    "\n",
    "![initial ssh](../../../media/ssh2.png)\n",
    "\n",
    "#### We see a message saying the the authenticity of the computer we are trying to connect to cannot be verified. We want to answer yes (a simple ``y`` will do), we do want to proceed.\n",
    "\n",
    "#### We are now prompted for our password (same as our username)\n",
    "\n",
    "#### If we typed everything correctly, we are now connected to a remote computer\n",
    "\n",
    "This is a Linux computer with a very basic set of commands, ``vi`` exists, for example, but ``python`` does not.\n",
    "\n",
    "![initial ssh](../../../media/ssh3.png)\n",
    "\n",
    "#### If we connect again, we are now longer prompted about the authenticity of the remote computer\n",
    "\n",
    "![initial ssh](../../../media/ssh4.png)\n",
    "\n",
    "#### ``ssh`` has created a hidden directory in our home directory named ``.ssh``\n",
    "\n",
    "![initial ssh](../../../media/ssh5.png)\n",
    "\n",
    "#### Inside of ``.ssh`` is a file named ``known_hosts`` which saves the information about hosts we have authenticated\n",
    "\n",
    "![initial ssh](../../../media/ssh6.png)\n",
    "\n"
   ]
  },
  {
   "cell_type": "markdown",
   "metadata": {},
   "source": [
    "## Exercise\n",
    "\n",
    "Since the only user on the server is `jovyan`, when we connect to `myssh` we are all the same user, sharing the same home directory.\n",
    "\n",
    "Connect to ``myssh`` (`ssh jovyan@myssh`) and create a directory using your own name with this pattern ``lastname_firstname``. ``cd`` to your new directory and create a time stamp file with the following command:\n",
    "\n",
    "```bash\n",
    "\n",
    "date > timestamp.txt\n",
    "```\n",
    "\n",
    "Verify that the file exists."
   ]
  },
  {
   "cell_type": "code",
   "execution_count": null,
   "metadata": {},
   "outputs": [],
   "source": []
  },
  {
   "cell_type": "markdown",
   "metadata": {},
   "source": [
    "## Using ``scp``\n",
    "\n",
    "``ssh`` gets us the user to a remote computer, but how do we get data to or from a remote computer? The first way we will approach this is with the [``scp``](https://en.wikipedia.org/wiki/Secure_copy) command. ``scp`` uses the ``ssh`` protocol to copy folders or directories from one computer to another.\n",
    "\n",
    "### Example\n",
    "\n",
    "In a terminal we will use ``scp`` to copy the ``timestamp.txt`` file from ``myssh`` to this directory (the directory where this notebook is located). \n",
    "\n",
    "**Hint:** You can get an idea where the notebook is located from the web address for the notebook.\n",
    "\n",
    "Once we are in the local directory where we want to copy the file to, we can execute the following command\n",
    "\n",
    "```bash\n",
    "\n",
    "scp jovyan@myssh:~/chapman_brian/timestamp.txt .\n",
    "```\n",
    "Edit the directory name to match your directory."
   ]
  },
  {
   "cell_type": "code",
   "execution_count": null,
   "metadata": {},
   "outputs": [],
   "source": [
    "test_timestamp()"
   ]
  },
  {
   "cell_type": "markdown",
   "metadata": {},
   "source": [
    "#### Analysis\n",
    "\n",
    "The command format for ``scp`` is very similar to ``cp``: I provide a path to a file I want to copy from (``jovyan@myssh:~/chapman_brian/timestamp.txt``) and a path to where I want to copy to (``.``). The priod means keep the same file name and save at the current location.\n",
    "\n",
    "Let's break this down further.\n",
    "\n",
    "* **``jovyan@myssh:``**: this is saying I'm going to connect as the user ``jovyan`` on the remote computer ``myssh``\n",
    "    * Since I'm ``jovyan`` on this computer, I don't actually have to provide that name as it will asumme my current username if an alternative is not provided (``scp myssh:~/chapman_brian/timestamp.txt``)\n",
    "* **``:~/chapman_brian/tempstamp.txt``**: this is the path to the file on the remote computer.\n",
    "\n",
    "## Exercise: exchanging \"Business Cards\"\n",
    "\n",
    "In the terminal, use vim to open a file named \"business_card.md\". In this file we will use [Markdown](https://daringfireball.net/projects/markdown/syntax) to create a simple business card.\n",
    "\n",
    "For example, here is a \"business card\" for me\n",
    "\n",
    "### Raw Markdown\n",
    "\n",
    "```Markdown\n",
    "![Utah Logo](https://healthcare.utah.edu/rebrand/img/logos/uhealth-logo.svg)\n",
    "\n",
    "## Brian E. Chapman, Ph.D.\n",
    " Associate Professor of [Radiology and Imaging Sciences](http://medicine.utah.edu/radiology/)  \n",
    " Adjunct Associate Professor of [Biomedical Informatics](http://medicine.utah.edu/dbmi/)  \n",
    "\n",
    "* Phone: 801-587-8672\n",
    "* e-mail: <brian.chapman@utah.edu>\n",
    "```\n",
    "\n",
    "### Rendered Markdown\n",
    "\n",
    "![Utah Logo](https://healthcare.utah.edu/rebrand/img/logos/uhealth-logo.svg)\n",
    "\n",
    "## Brian E. Chapman, Ph.D.\n",
    " Associate Professor of [Radiology and Imaging Sciences](http://medicine.utah.edu/radiology/)  \n",
    " Adjunct Associate Professor of [Biomedical Informatics](http://medicine.utah.edu/dbmi/)  \n",
    "\n",
    "* Phone: 801-587-8672\n",
    "* e-mail: <brian.chapman@utah.edu>\n",
    "\n",
    "\n",
    "### Edit Hints\n",
    "\n",
    "Markdown is simple in what kind of control (e.g. image size) it offers the user, but you can embed HTML for more control.\n",
    "\n",
    "### Rendered Markdown\n",
    "\n",
    "<img\n",
    "src=\"https://healthcare.utah.edu/rebrand/img/logos/uhealth-logo.svg\" alt=\"Utah Health\n",
    "Logo\" width=\"256\">\n",
    "\n",
    "## Brian E. Chapman, Ph.D.\n",
    " Associate Professor of [Radiology and Imaging Sciences](http://medicine.utah.edu/radiology/)  \n",
    " Adjunct Associate Professor of [Biomedical Informatics](http://medicine.utah.edu/dbmi/)  \n",
    "\n",
    "* Phone: 801-587-8672\n",
    "* e-mail: <brian.chapman@utah.edu>\n",
    "\n",
    "#### Use ``scp`` to copy ``business_card.md`` to your directory on ``myssh``.\n",
    "\n",
    "#### Use ``scp`` to copy your neighbor/partners ``business_card.md`` to your directory on this computer but rename it ``business_card_friend.md``\n",
    "\n",
    "**Hint:** Think about the basic ``cp`` command format and what we would switch with the ``scp``."
   ]
  },
  {
   "cell_type": "code",
   "execution_count": null,
   "metadata": {},
   "outputs": [],
   "source": [
    "%%bash \n",
    "pip install markdown"
   ]
  },
  {
   "cell_type": "code",
   "execution_count": null,
   "metadata": {},
   "outputs": [],
   "source": [
    "from ssh_quizzes import *\n",
    "display_bc()"
   ]
  },
  {
   "cell_type": "code",
   "execution_count": null,
   "metadata": {},
   "outputs": [],
   "source": [
    "display_bc(\"business_card_friend.md\")"
   ]
  },
  {
   "cell_type": "markdown",
   "metadata": {},
   "source": [
    "## Recursive scp\n",
    "\n",
    "\n",
    "So far we have been copying single files. We can copy directory trees by using the ``-r`` flag, just like the ``cp`` command.\n",
    "\n",
    "To copy the contents of ``~/DATA/Misc`` to the directory I created on ``myssh``, I would use the following command:\n",
    "\n",
    "```bash\n",
    "scp -r ~/DATA/Misc jovyan@myssh:~/chapman_brian/\n",
    "```"
   ]
  },
  {
   "cell_type": "code",
   "execution_count": null,
   "metadata": {},
   "outputs": [],
   "source": []
  },
  {
   "cell_type": "markdown",
   "metadata": {},
   "source": [
    "## [``rsync``](https://en.wikipedia.org/wiki/Rsync)\n",
    "\n",
    "``rsync`` stands for **r**emote **sync**hronization.\n",
    "\n",
    "A more powerful tool than ``scp`` is ``rsync``, which can be used for keeping two remote directory structures in sync with each other.\n",
    "\n",
    "The syntax is very similar to scp; you provide a local destination "
   ]
  },
  {
   "cell_type": "markdown",
   "metadata": {},
   "source": [
    "###  We can use curl to look at the man pages for ``rsync``\n"
   ]
  },
  {
   "cell_type": "code",
   "execution_count": null,
   "metadata": {},
   "outputs": [],
   "source": [
    "%%bash\n",
    "curl http://linuxcommand.org/man_pages/rsync1.html | iconv -t utf-8 |pandoc -S --from=html --to=plain"
   ]
  },
  {
   "cell_type": "markdown",
   "metadata": {},
   "source": [
    "##  Exercise\n",
    "\n",
    "Use ``rsync`` to synchronization your ``OutbreakDetection`` directory to the ``myssh`` server in the directory you created."
   ]
  },
  {
   "cell_type": "markdown",
   "metadata": {},
   "source": [
    "<a rel=\"license\" href=\"http://creativecommons.org/licenses/by-nc-sa/4.0/\"><img alt=\"Creative Commons License\" style=\"border-width:0\" src=\"https://i.creativecommons.org/l/by-nc-sa/4.0/88x31.png\" /></a><br /><span xmlns:dct=\"http://purl.org/dc/terms/\" property=\"dct:title\">University of Uah Data Science for Health</span> by <span xmlns:cc=\"http://creativecommons.org/ns#\" property=\"cc:attributionName\">Eric Bogenschutz, Thomas Sasani, Brian E. Chapman</span> is licensed under a <a rel=\"license\" href=\"http://creativecommons.org/licenses/by-nc-sa/4.0/\">Creative Commons Attribution-NonCommercial-ShareAlike 4.0 International License</a>."
   ]
  },
  {
   "cell_type": "code",
   "execution_count": null,
   "metadata": {},
   "outputs": [],
   "source": []
  }
 ],
 "metadata": {
  "kernelspec": {
   "display_name": "Python 3",
   "language": "python",
   "name": "python3"
  },
  "language_info": {
   "codemirror_mode": {
    "name": "ipython",
    "version": 3
   },
   "file_extension": ".py",
   "mimetype": "text/x-python",
   "name": "python",
   "nbconvert_exporter": "python",
   "pygments_lexer": "ipython3",
   "version": "3.5.5"
  }
 },
 "nbformat": 4,
 "nbformat_minor": 1
}
