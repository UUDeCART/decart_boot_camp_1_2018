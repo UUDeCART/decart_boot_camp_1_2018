{
 "cells": [
  {
   "cell_type": "markdown",
   "metadata": {},
   "source": [
    "<html>\n",
    "<table width=\"100%\" cellspacing=\"2\" cellpadding=\"2\" border=\"1\">\n",
    "<tbody>\n",
    "<tr>\n",
    "<td valign=\"center\" align=\"center\" width=\"25%\"><img src=\"../../../media/decartes.jpg\"\n",
    "alt=\"DeCART Icon\" width=\"128\" height=\"171\"><br>\n",
    "</td>\n",
    "<td valign=\"center\" align=\"center\" width=\"75%\">\n",
    "<h1 align=\"center\"><font size=\"+3\">DeCART Summer School<br>\n",
    "for<br>\n",
    "Biomedical Data Science</font></h1></td>\n",
    "<td valign=\"center\" align=\"center\" width=\"25%\"><img\n",
    "src=\"../../../media/U_Health_stacked_png_red.png\" alt=\"Utah Health\n",
    "Logo\" width=\"128\" height=\"134\"><br>\n",
    "</td>\n",
    "</tr>\n",
    "</tbody>\n",
    "</table>\n",
    "<br>\n",
    "</html>"
   ]
  },
  {
   "cell_type": "markdown",
   "metadata": {},
   "source": [
    "# Accessing Remote Data\n",
    "\n",
    "## Internet Protocols\n",
    "\n",
    "What we now know as the internet has its roots in the [ARPA Net]() that was designed to exchange data between computers across the country to facilitate decision making regarding potential nuclear attacks. The original ARPA net connected UCLA, UCSB, Stanford, and the University of Utah.\n",
    "\n",
    "![ARPA Net](https://www.sri.com/work/timeline-innovation/images/25_bw_arpanet2.png)\n",
    "\n",
    "[Various protocols](https://en.wikipedia.org/wiki/Internet_protocol_suite) have been defined for computers to communicate with each other across a network. The most important of these protocols for our purposes are\n",
    "\n",
    "\n",
    "### Application Protocols\n",
    "* [ftp](https://en.wikipedia.org/wiki/File_Transfer_Protocol)\n",
    "* [HTTP](https://en.wikipedia.org/wiki/Hypertext_Transfer_Protocol)\n",
    "* [ssh](https://en.wikipedia.org/wiki/Secure_Shell)"
   ]
  },
  {
   "cell_type": "markdown",
   "metadata": {},
   "source": [
    "### FTP\n",
    "\n",
    "FTP stands for **f**ile **t**ransfer **p**rotocol. FTP is an old protocol that has largely been replaced by more secure protocols. However, ftp is still used to distribute data. For example the NCI hosts an ftp site for distributing data:\n",
    "\n",
    "![NIC ftp site](../../../media/nci.png)\n",
    "\n",
    "One of the data sets we will be using in part 2 of the boot camp is [ClinVar](https://www.ncbi.nlm.nih.gov/clinvar/intro/) which is a resource for discovering the clinical significance of observed genetic variations.\n",
    "\n",
    "We can use the [``wget``](https://www.gnu.org/software/wget/manual/wget.html) program to use the ftp protocol to download data from an ftp site:"
   ]
  },
  {
   "cell_type": "markdown",
   "metadata": {},
   "source": [
    "## Exercise\n",
    "\n",
    "In a terminal or bash shell in the notebook, create a directory ``~/work/nci``. Change directory to that new directory and use ``wget`` to download the following file: ``ftp://ftp.ncbi.nlm.nih.gov/pub/clinvar/tab_delimited/var_citations.txt``"
   ]
  },
  {
   "cell_type": "code",
   "execution_count": null,
   "metadata": {},
   "outputs": [],
   "source": [
    "from remote_quizzes import *\n",
    "nci_ftp_quiz()"
   ]
  },
  {
   "cell_type": "markdown",
   "metadata": {},
   "source": [
    "## [``pandoc``](http://pandoc.org/)\n",
    "\n",
    "Pandoc is a very useful tool that converts a document in one format to a another format. It is quite versatile in the kind of documents it can handle, including\n",
    "\n",
    "* Word documents (*.docx)\n",
    "* HTML (*.html)\n",
    "* [Markdown](https://daringfireball.net/projects/markdown/syntax) (*.md)\n",
    "* [reStructedText](http://docutils.sourceforge.net/rst.html) (*.rst)\n",
    "* [LaTex](https://www.latex-project.org/about/) (*.tex)\n",
    "\n",
    "There are many more formats pandoc understands. See the [documentation](http://pandoc.org/).\n",
    "\n",
    "In these courses, we will make much use of Markdown and LaTex. These notebooks are set in Markdown.\n",
    "\n"
   ]
  },
  {
   "cell_type": "markdown",
   "metadata": {},
   "source": [
    "## [``curl``](https://curl.haxx.se/docs/manpage.html)\n",
    "\n",
    "``curl`` is a tool similar to ``wget``, but with perhaps more general functionality. \n",
    "\n",
    "## Example\n",
    "\n",
    "In this example we are going to explore a little bit of the differences between ``wget`` and ``curl``. As part of this exploration we are going to combine Unix pipes and pandoc to convert the HTML document that is pulled from the web to a more user readable form.\n",
    "\n",
    "The author of ``curl`` has written a comparison between the two tools at ``https://daniel.haxx.se/docs/curl-vs-wget.html``. \n",
    "\n",
    "In a terminal type the following command:\n",
    "\n",
    "```bash\n",
    "curl https://daniel.haxx.se/docs/curl-vs-wget.html | pandoc -s --from=html --to=plain | less\n",
    "```\n",
    "\n",
    "## Exercise\n",
    "\n",
    "Explain each step of the composite command to your neighbor/partner.\n",
    "\n",
    "\n",
    "## Exercise\n",
    "\n",
    "Change the output format (``--to=plain``) to other formats to explore them, including not converting the HTML at all."
   ]
  },
  {
   "cell_type": "markdown",
   "metadata": {},
   "source": [
    "## Structure of Web Servers\n",
    "\n",
    "Web servers like Apache and Nginx map directories on the server to web addresses. We have created an Nginx web server on our network. For Nginx the directory root that is mapped to the web is ``/usr/share/nginx/html``. Here is what the directory tree there looks like:\n",
    "\n",
    "![Nginx tree](../../../media/webserver.png)\n",
    "\n",
    "``index.html`` is the HTML page that maps to the url base.\n",
    "\n",
    "Running this locally on my computer the address is ``http://127.0.0.1:8080``:\n",
    "\n",
    "![index image](../../../media/index.html.png)\n",
    "\n",
    "Any file sitting below ``/user/share/nginx/html`` maps with an address matching its relative file path. So, for example the, JPEG file located at ``./imgs/bigneck.jpg`` maps to ``http://127.0.0.1:8080/imgs/bigneck.jpg``\n",
    "\n",
    "![big neck](../../../media/big_neck.png)\n",
    "\n",
    "And ``./data/carotid.txt`` maps to ``http://127.0.0.1:8080/data/carotid.txt``\n",
    "\n",
    "![carotid image](../../../media/carotid.png)"
   ]
  },
  {
   "cell_type": "markdown",
   "metadata": {},
   "source": [
    "## Images and Medicine\n",
    "\n",
    "Visual information is integral to medicine. Digital imaging technologies and electronic health records enable the greater use of images in medicine. Some disciplines, such as radiology and surgical pathology, are entirely built around visual information and captured images. In fields like dermatology, images are becoming more prevalent. In radiology, medical-specific standards are used to represent images while dermatology tends to use general photographic image standards.\n",
    "\n",
    "\n",
    "\n",
    "\n",
    "## Medical Specific Standards for Images\n",
    "\n",
    "* [DICOM](https://en.wikipedia.org/wiki/DICOM)\n",
    "\n",
    "## General Image Standards\n",
    "\n",
    "* [TIFF: Tagged Image File Format](https://en.wikipedia.org/wiki/Tagged_Image_File_Format)\n",
    "* [JPEG: Joint Photographic Experts Group](https://en.wikipedia.org/wiki/JPEG)\n",
    "* [PNG: Portable Network Graphics](https://en.wikipedia.org/wiki/Portable_Network_Graphics)\n",
    "\n",
    "\n",
    "### Exercise\n",
    "\n",
    "When defining a standard for a digital image, what are some of the information about the image you would need to represent/record?"
   ]
  },
  {
   "cell_type": "markdown",
   "metadata": {},
   "source": [
    "## Install a program for reading image headers for photographic images\n",
    "\n",
    "The cell below will create an executable program EXIF.py. This file will be installed in your path (use ``which`` to see where it is installed) and can be used to read the metadata for an image."
   ]
  },
  {
   "cell_type": "code",
   "execution_count": null,
   "metadata": {},
   "outputs": [],
   "source": [
    "%%bash\n",
    "pip install exifread"
   ]
  },
  {
   "cell_type": "markdown",
   "metadata": {},
   "source": [
    "## Exercise\n",
    "\n",
    "Make the directories ``~/work/images_wget`` and ``~/images_curl``. Use both ``wget`` and ``curl`` to download the images from ``mynginx`` to the wget and curl directories respectively. Use the ``EXIF.py`` program to answer the following questions:\n",
    "\n",
    "1. What are the image dimensions of 04.jpg?\n",
    "1. What is the date 04.jpg was acquired?\n",
    "1. What is the color space of 04.jpg?\n",
    "1. What are the image dimensions of ct6.jpg?\n",
    "1. What is the date ct6.jpg was acquired?\n",
    "1. What is the color space of ct6.jpg?"
   ]
  },
  {
   "cell_type": "markdown",
   "metadata": {},
   "source": [
    "## Display an image using Markdown\n",
    "\n",
    "We can display an image in this notebook using Markdown. The syntax is\n",
    "\n",
    "```markdown\n",
    "\n",
    "![some label](PATH_TO_FILE)\n",
    "```\n",
    "\n",
    "Edit the markdown cell below to display an image you have pulled from mynginx"
   ]
  },
  {
   "cell_type": "markdown",
   "metadata": {},
   "source": [
    "### Display image here\n",
    "\n",
    "![]()"
   ]
  },
  {
   "cell_type": "code",
   "execution_count": null,
   "metadata": {},
   "outputs": [],
   "source": []
  }
 ],
 "metadata": {
  "kernelspec": {
   "display_name": "Python 3",
   "language": "python",
   "name": "python3"
  },
  "language_info": {
   "codemirror_mode": {
    "name": "ipython",
    "version": 3
   },
   "file_extension": ".py",
   "mimetype": "text/x-python",
   "name": "python",
   "nbconvert_exporter": "python",
   "pygments_lexer": "ipython3",
   "version": "3.5.5"
  }
 },
 "nbformat": 4,
 "nbformat_minor": 1
}
