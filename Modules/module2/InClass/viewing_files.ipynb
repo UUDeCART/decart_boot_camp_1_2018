{
 "cells": [
  {
   "cell_type": "markdown",
   "metadata": {},
   "source": [
    "<html>\n",
    "<table width=\"100%\" cellspacing=\"2\" cellpadding=\"2\" border=\"1\">\n",
    "<tbody>\n",
    "<tr>\n",
    "<td valign=\"center\" align=\"center\" width=\"25%\"><img src=\"../../../media/decartes.jpg\"\n",
    "alt=\"DeCART Icon\" width=\"128\" height=\"171\"><br>\n",
    "</td>\n",
    "<td valign=\"center\" align=\"center\" width=\"75%\">\n",
    "<h1 align=\"center\"><font size=\"+1\">DeCART Summer School<br>\n",
    "for<br>\n",
    "Biomedical Data Science</font></h1></td>\n",
    "<td valign=\"center\" align=\"center\" width=\"25%\"><img\n",
    "src=\"../../../media/U_Health_stacked_png_red.png\" alt=\"Utah Health\n",
    "Logo\" width=\"128\" height=\"134\"><br>\n",
    "</td>\n",
    "</tr>\n",
    "</tbody>\n",
    "</table>\n",
    "<br>\n",
    "</html>"
   ]
  },
  {
   "cell_type": "markdown",
   "metadata": {},
   "source": [
    "# Viewing Contents of Files\n",
    "\n",
    "How do we view the content of files? We will eventually learn one of the oldest and most powerful text editors in Unix, but for now we will explore three Unix/Linux commands for viewing (but not editing) file content.\n",
    "\n",
    "* [``cat``](https://goo.gl/nTHjqi)\n",
    "* [``more``](https://goo.gl/VU8tFh)\n",
    "* [``less``](https://goo.gl/zTByN3)"
   ]
  },
  {
   "cell_type": "markdown",
   "metadata": {},
   "source": [
    "## ``cat``\n",
    "\n",
    "The name ``cat`` comes from concatenate, one of the uses of ``cat``. ``cat`` simply prints the content of the file to the screen."
   ]
  },
  {
   "cell_type": "code",
   "execution_count": null,
   "metadata": {},
   "outputs": [],
   "source": [
    "%%bash\n",
    "cat ~/DATA/Misc/obits.txt"
   ]
  },
  {
   "cell_type": "markdown",
   "metadata": {},
   "source": [
    "#### I can ``cat`` more than one file (this is how I would concatenate them)"
   ]
  },
  {
   "cell_type": "code",
   "execution_count": null,
   "metadata": {},
   "outputs": [],
   "source": [
    "%%bash\n",
    "cat ~/DATA/Misc/obits.txt ~/DATA/README.txt"
   ]
  },
  {
   "cell_type": "markdown",
   "metadata": {},
   "source": [
    "### ``more``\n",
    "\n",
    "``more`` is a **page viewer**. It takes the content of a file and displays it to the user in chunks that can be paged through.\n",
    "\n",
    "Because this is interactive, we cannot explore it in the notebook. Instead, open a terminal and type the following command:\n",
    "\n",
    "```bash\n",
    "more ~/DATA/Misc/obits.txt\n",
    "```\n",
    "\n",
    "The contents of the file will be printed to your terminal until your terminal is full. The output is then paused (with a message of how much of the file has been viewed), waiting for you to continue.\n",
    "\n",
    "* The space bar will continue to the next page of output\n",
    "* The return character will continue to the next line of output\n",
    "* ``q`` will quit\n",
    "* ``/`` will let you search for a pattern in the file\n",
    "    * ``n`` will take you to the next occurrence of the pattern\n",
    "    \n",
    "### ``less`` is like ``more`` only **more** useful\n",
    "\n",
    "``less`` allows both forward paging (like ``more``) but also backward paging. The Wikipedia article has a [nice table](https://goo.gl/E5b2Dh) of ``less`` commands.\n",
    "\n",
    "## Exercise\n",
    "\n",
    "Use ``more`` or ``less`` to count how many deaths recorded in ``obits.txt`` occurred on October 15th.\n",
    "\n",
    "#### Question: Why use ``more`` or ``less`` rather than just using ``grep``?"
   ]
  },
  {
   "cell_type": "code",
   "execution_count": null,
   "metadata": {},
   "outputs": [],
   "source": [
    "from viewing_quizzes import *\n",
    "oct15(ocount=-1)"
   ]
  },
  {
   "cell_type": "code",
   "execution_count": null,
   "metadata": {},
   "outputs": [],
   "source": []
  }
 ],
 "metadata": {
  "kernelspec": {
   "display_name": "Python 3",
   "language": "python",
   "name": "python3"
  },
  "language_info": {
   "codemirror_mode": {
    "name": "ipython",
    "version": 3
   },
   "file_extension": ".py",
   "mimetype": "text/x-python",
   "name": "python",
   "nbconvert_exporter": "python",
   "pygments_lexer": "ipython3",
   "version": "3.5.5"
  }
 },
 "nbformat": 4,
 "nbformat_minor": 1
}
